{
 "cells": [
  {
   "metadata": {},
   "cell_type": "markdown",
   "source": [
    "# Практична робота №1. Отримання навичок роботи в середовищi Python\n",
    "Варіант 25 \\\n",
    "Виконали студенти групи КА-35 Бернацький Артем, Бубало Анна, Іванкевич Богдан, Шальман Тимофій"
   ],
   "id": "3d495df9caf8e554"
  },
  {
   "metadata": {},
   "cell_type": "markdown",
   "source": "### Ініціалізація потрібних змінних та значень",
   "id": "6ac6a95894d207bd"
  },
  {
   "metadata": {
    "ExecuteTime": {
     "end_time": "2025-09-17T20:37:35.506544Z",
     "start_time": "2025-09-17T20:37:35.503212Z"
    }
   },
   "cell_type": "code",
   "source": [
    "I = {\"молоко\", \"вода\", \"борошно\", \"яблука\"}\n",
    "D = [[\"молоко\", \"вода\", \"борошно\"],\n",
    "    [\"молоко\", \"борошно\"],\n",
    "    [\"молоко\", \"вода\", \"борошно\",\"яблука\"],\n",
    "    [\"борошно\",\"вода\"],\n",
    "    [\"яблука\"]]\n",
    "\n",
    "supp_min = 0.4"
   ],
   "id": "27b33f02101fc06e",
   "outputs": [],
   "execution_count": 1
  },
  {
   "metadata": {},
   "cell_type": "markdown",
   "source": [
    "### Реалізація функції $Supp$\n",
    "$Supp(F) = \\frac{|D_F|}{|D|}$"
   ],
   "id": "b0402fac682f57b4"
  },
  {
   "metadata": {
    "ExecuteTime": {
     "end_time": "2025-09-17T20:37:35.569094Z",
     "start_time": "2025-09-17T20:37:35.566034Z"
    }
   },
   "cell_type": "code",
   "source": [
    "def supp(F, D):\n",
    "    count = 0\n",
    "    for row in D:\n",
    "        if all(i in row for i in F):\n",
    "            count += 1\n",
    "    return count / len(D)"
   ],
   "id": "648248665a329057",
   "outputs": [],
   "execution_count": 2
  },
  {
   "metadata": {},
   "cell_type": "markdown",
   "source": [
    "### Розрахунок $L_1$\n",
    "$L_1 = \\{ i|i \\in{I}, Supp(i) \\ge Supp_{min} \\}$"
   ],
   "id": "c667b831347d70e1"
  },
  {
   "metadata": {
    "ExecuteTime": {
     "end_time": "2025-09-17T20:37:35.626873Z",
     "start_time": "2025-09-17T20:37:35.620580Z"
    }
   },
   "cell_type": "code",
   "source": [
    "L1 = [[i] for i in I if supp([i], D) >= supp_min]\n",
    "L1"
   ],
   "id": "1aa1541497102490",
   "outputs": [
    {
     "data": {
      "text/plain": [
       "[['вода'], ['яблука'], ['борошно'], ['молоко']]"
      ]
     },
     "execution_count": 3,
     "metadata": {},
     "output_type": "execute_result"
    }
   ],
   "execution_count": 3
  },
  {
   "metadata": {},
   "cell_type": "markdown",
   "source": [
    "### Реалізація алгоритму знаходження результуючої множини частих наборiв $L_k$\n",
    "$L_k=\\{ F \\cup{i} | F \\in{L_{k-1}}, i \\in{L_1} \\setminus F, Supp(F \\cup{ \\{i\\} }) \\ge Supp_{min} \\}$"
   ],
   "id": "e7021c34ae28b6f0"
  },
  {
   "metadata": {
    "ExecuteTime": {
     "end_time": "2025-09-17T20:37:35.688203Z",
     "start_time": "2025-09-17T20:37:35.683659Z"
    }
   },
   "cell_type": "code",
   "source": [
    "def get_frequent_sets(D, L1, supp_min):\n",
    "    result = [(supp(F, D), F) for F in L1]\n",
    "    L_prev = L1.copy()\n",
    "\n",
    "    while True:\n",
    "        Lk = []\n",
    "        for F in L_prev:\n",
    "            for i in L1:\n",
    "                item = i[0]\n",
    "                if item not in F:\n",
    "                    F_new = sorted(F + [item])\n",
    "                    if F_new not in Lk:\n",
    "                        supp_f = supp(F_new, D)\n",
    "                        if supp_f >= supp_min:\n",
    "                            Lk.append(F_new)\n",
    "                            result.append((supp_f, F_new))\n",
    "        if not Lk:\n",
    "            break\n",
    "\n",
    "        L_prev = Lk\n",
    "\n",
    "    return result"
   ],
   "id": "ac988486a7fad061",
   "outputs": [],
   "execution_count": 4
  },
  {
   "metadata": {},
   "cell_type": "markdown",
   "source": "### Результат виконання алгоритму на нашому датасеті",
   "id": "fc65a0d3726c0383"
  },
  {
   "metadata": {
    "ExecuteTime": {
     "end_time": "2025-09-17T20:37:35.746705Z",
     "start_time": "2025-09-17T20:37:35.739652Z"
    }
   },
   "cell_type": "code",
   "source": [
    "frequent_sets = get_frequent_sets(D, L1, supp_min)\n",
    "print(\" Supp\\tSet\")\n",
    "frequent_sets"
   ],
   "id": "990e07685fcfe4ca",
   "outputs": [
    {
     "name": "stdout",
     "output_type": "stream",
     "text": [
      " Supp\tSet\n"
     ]
    },
    {
     "data": {
      "text/plain": [
       "[(0.6, ['вода']),\n",
       " (0.4, ['яблука']),\n",
       " (0.8, ['борошно']),\n",
       " (0.6, ['молоко']),\n",
       " (0.6, ['борошно', 'вода']),\n",
       " (0.4, ['вода', 'молоко']),\n",
       " (0.6, ['борошно', 'молоко']),\n",
       " (0.4, ['борошно', 'вода', 'молоко'])]"
      ]
     },
     "execution_count": 5,
     "metadata": {},
     "output_type": "execute_result"
    }
   ],
   "execution_count": 5
  }
 ],
 "metadata": {
  "kernelspec": {
   "display_name": "Python 3",
   "language": "python",
   "name": "python3"
  },
  "language_info": {
   "codemirror_mode": {
    "name": "ipython",
    "version": 2
   },
   "file_extension": ".py",
   "mimetype": "text/x-python",
   "name": "python",
   "nbconvert_exporter": "python",
   "pygments_lexer": "ipython2",
   "version": "2.7.6"
  }
 },
 "nbformat": 4,
 "nbformat_minor": 5
}
