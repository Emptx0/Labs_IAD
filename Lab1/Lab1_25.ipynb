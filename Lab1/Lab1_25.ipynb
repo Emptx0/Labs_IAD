{
 "cells": [
  {
   "metadata": {},
   "cell_type": "markdown",
   "source": [
    "# Практична робота №1. Отримання навичок роботи в середовищi Python\n",
    "Варіант 25 \\\n",
    "Виконали студенти групи КА-35 Бернацький Артем, Бубало Анна, Іванкевич Богдан, Шальман Тимофій"
   ],
   "id": "3d495df9caf8e554"
  },
  {
   "metadata": {},
   "cell_type": "markdown",
   "source": "### Ініціалізація потрібних змінних та значень",
   "id": "6ac6a95894d207bd"
  },
  {
   "metadata": {
    "ExecuteTime": {
     "end_time": "2025-09-18T15:37:50.788620Z",
     "start_time": "2025-09-18T15:37:50.784483Z"
    }
   },
   "cell_type": "code",
   "source": [
    "# Множина товарів\n",
    "I = {\"молоко\", \"вода\", \"борошно\", \"яблука\"}\n",
    "\n",
    "# Множина транзакцій\n",
    "D = [[\"молоко\", \"вода\", \"борошно\"],\n",
    "    [\"молоко\", \"борошно\"],\n",
    "    [\"молоко\", \"вода\", \"борошно\",\"яблука\"],\n",
    "    [\"борошно\",\"вода\"],\n",
    "    [\"яблука\"]]\n",
    "\n",
    "# Поріг мінімальної підтримки\n",
    "supp_min = 0.4"
   ],
   "id": "27b33f02101fc06e",
   "outputs": [],
   "execution_count": 7
  },
  {
   "metadata": {},
   "cell_type": "markdown",
   "source": [
    "### Реалізація функції $Supp$\n",
    "$Supp(F) = \\frac{|D_F|}{|D|}$"
   ],
   "id": "b0402fac682f57b4"
  },
  {
   "metadata": {
    "ExecuteTime": {
     "end_time": "2025-09-18T15:37:50.842356Z",
     "start_time": "2025-09-18T15:37:50.838646Z"
    }
   },
   "cell_type": "code",
   "source": [
    "def supp(F, D):\n",
    "    \"\"\"\n",
    "    Функція знаходження підтримки повертає відношення кількості елементів\n",
    "    з множини товарів до кількості транзакцій.\n",
    "\n",
    "    Аргументи:\n",
    "        F - множина товарів, для якої рахуємо підтримку.\n",
    "        D - множина транзакцій, де кожен елемент D - одна транзакція.\n",
    "    \"\"\"\n",
    "\n",
    "    count = 0\n",
    "    for row in D:\n",
    "        if all(i in row for i in F):\n",
    "            count += 1\n",
    "    return count / len(D)"
   ],
   "id": "648248665a329057",
   "outputs": [],
   "execution_count": 8
  },
  {
   "metadata": {},
   "cell_type": "markdown",
   "source": [
    "### Розрахунок $L_1$\n",
    "$L_1 = \\{ i|i \\in{I}, Supp(i) \\ge Supp_{min} \\}$"
   ],
   "id": "c667b831347d70e1"
  },
  {
   "metadata": {
    "ExecuteTime": {
     "end_time": "2025-09-18T15:37:50.903882Z",
     "start_time": "2025-09-18T15:37:50.893602Z"
    }
   },
   "cell_type": "code",
   "source": [
    "# Для кожного елемента множини товарів знаходимо supp.\n",
    "# Отримуємо множину одноелементних наборів, це необхідно для коректної роботи функції supp.\n",
    "\n",
    "L1 = [[i] for i in I if supp([i], D) >= supp_min]\n",
    "L1"
   ],
   "id": "1aa1541497102490",
   "outputs": [
    {
     "data": {
      "text/plain": [
       "[['вода'], ['борошно'], ['яблука'], ['молоко']]"
      ]
     },
     "execution_count": 9,
     "metadata": {},
     "output_type": "execute_result"
    }
   ],
   "execution_count": 9
  },
  {
   "metadata": {},
   "cell_type": "markdown",
   "source": [
    "### Реалізація алгоритму знаходження результуючої множини частих наборiв $L_k$\n",
    "$L_k=\\{ F \\cup{i} | F \\in{L_{k-1}}, i \\in{L_1} \\setminus F, Supp(F \\cup{ \\{i\\} }) \\ge Supp_{min} \\}$"
   ],
   "id": "e7021c34ae28b6f0"
  },
  {
   "metadata": {
    "ExecuteTime": {
     "end_time": "2025-09-18T15:37:50.958966Z",
     "start_time": "2025-09-18T15:37:50.951909Z"
    }
   },
   "cell_type": "code",
   "source": [
    "def get_frequent_sets(D, L1, supp_min):\n",
    "    \"\"\"\n",
    "    Функція get_frequent_sets знаходить усі часті множини елементів у транзакціях D.\n",
    "\n",
    "    Аргументи:\n",
    "        L1 - множина L1, яку ми рахували раніше.\n",
    "        D - множина транзакцій, де кожен елемент D - одна транзакція.\n",
    "        supp_min - поріг мінімальної підтримки.\n",
    "\n",
    "    Алгоритм:\n",
    "        1. Створюємо початковий список результатів result - у ньому зберігатимемо кортежі\n",
    "        виду (підтримка, множина) для кожної знайденої множини.\n",
    "        2. Обчислюємо підтримку для L1 та зберігаємо у result.\n",
    "        3. Створюємо змінну для попередньої множини L_prev як копію L1.\n",
    "        4. Запускаємо цикл:\n",
    "            - Створюємо порожній список Lk для збереження нової множини.\n",
    "            - Для кожного елементу F з L_prev та для кожного i з L1:\n",
    "                1) Оскільки множина L1 складається з одноелементних наборів,\n",
    "                щоб отримати елемент ми беремо нульовий елемент списку item = i[0].\n",
    "                2) Якщо item ще не входить у F, формуємо нову множину F_new додаючи item до F\n",
    "                3) Сортуємо результат, щоб уникнути однакових комбінацій товарів в множинах.\n",
    "                4) Якщо множини F_new ще немає в Lk:\n",
    "                    - Рахуємо підтримку supp_f = supp(F_new, D).\n",
    "                    - Якщо supp_f ≥ supp_min, додаємо F_new у Lk і записуємо (supp_f, F_new) у result.\n",
    "            - Якщо на цьому кроці не вдалося знайти жодного нового частого набору (Lk порожній), то припиняємо цикл.\n",
    "            - Інакше оновлюємо L_prev = Lk і повторюємо процес.\n",
    "        5. Повертаємо result - усі знайдені часті набори з їх підтримками.\n",
    "    \"\"\"\n",
    "\n",
    "    result = [(supp(F, D), F) for F in L1]\n",
    "    L_prev = L1.copy()\n",
    "\n",
    "    while True:\n",
    "        Lk = []\n",
    "        for F in L_prev:\n",
    "            for i in L1:\n",
    "                item = i[0]\n",
    "                if item not in F:\n",
    "                    F_new = sorted(F + [item])  #  F ∪ {i}, де i ∈ L1 \\ F\n",
    "                    if F_new not in Lk:\n",
    "                        supp_f = supp(F_new, D)\n",
    "                        if supp_f >= supp_min:\n",
    "                            Lk.append(F_new)\n",
    "                            result.append((supp_f, F_new))\n",
    "        if not Lk:\n",
    "            break\n",
    "\n",
    "        L_prev = Lk\n",
    "\n",
    "    return result"
   ],
   "id": "ac988486a7fad061",
   "outputs": [],
   "execution_count": 10
  },
  {
   "metadata": {},
   "cell_type": "markdown",
   "source": "### Результат виконання алгоритму на нашому датасеті",
   "id": "fc65a0d3726c0383"
  },
  {
   "metadata": {
    "ExecuteTime": {
     "end_time": "2025-09-18T15:37:51.025845Z",
     "start_time": "2025-09-18T15:37:51.018531Z"
    }
   },
   "cell_type": "code",
   "source": [
    "frequent_sets = get_frequent_sets(D, L1, supp_min)\n",
    "print(\" Supp\\tSet\")\n",
    "frequent_sets"
   ],
   "id": "990e07685fcfe4ca",
   "outputs": [
    {
     "name": "stdout",
     "output_type": "stream",
     "text": [
      " Supp\tSet\n"
     ]
    },
    {
     "data": {
      "text/plain": [
       "[(0.6, ['вода']),\n",
       " (0.8, ['борошно']),\n",
       " (0.4, ['яблука']),\n",
       " (0.6, ['молоко']),\n",
       " (0.6, ['борошно', 'вода']),\n",
       " (0.4, ['вода', 'молоко']),\n",
       " (0.6, ['борошно', 'молоко']),\n",
       " (0.4, ['борошно', 'вода', 'молоко'])]"
      ]
     },
     "execution_count": 11,
     "metadata": {},
     "output_type": "execute_result"
    }
   ],
   "execution_count": 11
  }
 ],
 "metadata": {
  "kernelspec": {
   "display_name": "Python 3",
   "language": "python",
   "name": "python3"
  },
  "language_info": {
   "codemirror_mode": {
    "name": "ipython",
    "version": 2
   },
   "file_extension": ".py",
   "mimetype": "text/x-python",
   "name": "python",
   "nbconvert_exporter": "python",
   "pygments_lexer": "ipython2",
   "version": "2.7.6"
  }
 },
 "nbformat": 4,
 "nbformat_minor": 5
}
